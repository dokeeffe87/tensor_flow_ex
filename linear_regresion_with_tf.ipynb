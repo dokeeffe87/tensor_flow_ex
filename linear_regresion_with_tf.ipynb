{
 "cells": [
  {
   "cell_type": "code",
   "execution_count": 1,
   "metadata": {
    "collapsed": true
   },
   "outputs": [],
   "source": [
    "# Linear regression with tf"
   ]
  },
  {
   "cell_type": "code",
   "execution_count": 60,
   "metadata": {
    "collapsed": true
   },
   "outputs": [],
   "source": [
    "import numpy as np\n",
    "import matplotlib.pyplot as plt\n",
    "%matplotlib inline\n",
    "import tensorflow as tf\n",
    "import xlrd"
   ]
  },
  {
   "cell_type": "code",
   "execution_count": 61,
   "metadata": {
    "collapsed": true
   },
   "outputs": [],
   "source": [
    "DATA_FILE = \"/Users/daniel/Desktop/fun/stanford-tensorflow-tutorials-master/data/fire_theft.xls\""
   ]
  },
  {
   "cell_type": "code",
   "execution_count": 62,
   "metadata": {
    "collapsed": true
   },
   "outputs": [],
   "source": [
    "# Read data\n",
    "book = xlrd.open_workbook(DATA_FILE, encoding_override='utf-8')\n",
    "sheet = book.sheet_by_index(0)\n",
    "data = np.asarray([sheet.row_values(i) for i in range(1, sheet.nrows)])\n",
    "n_samples = sheet.nrows - 1"
   ]
  },
  {
   "cell_type": "code",
   "execution_count": 63,
   "metadata": {
    "collapsed": true
   },
   "outputs": [],
   "source": [
    "X = tf.placeholder(tf.float32, name=\"X\")\n",
    "Y = tf.placeholder(tf.float32, name=\"Y\")"
   ]
  },
  {
   "cell_type": "code",
   "execution_count": 64,
   "metadata": {
    "collapsed": true
   },
   "outputs": [],
   "source": [
    "# w = tf.Variable(0.0, name='weights')\n",
    "# b = tf.Variable(0.0, name='bias')\n",
    "# Try with a quadratic loss:\n",
    "w = tf.Variable(0.0, name='weights_1')\n",
    "u = tf.Variable(0.0, name='weights_2')\n",
    "b = tf.Variable(0.0, name='bias')"
   ]
  },
  {
   "cell_type": "code",
   "execution_count": 65,
   "metadata": {
    "collapsed": true
   },
   "outputs": [],
   "source": [
    "# Y_predicted = X * w  + b\n",
    "Y_predicted = X * X * w + X * u + b"
   ]
  },
  {
   "cell_type": "code",
   "execution_count": 66,
   "metadata": {
    "collapsed": true
   },
   "outputs": [],
   "source": [
    "loss = tf.square(Y - Y_predicted, name=\"loss\")"
   ]
  },
  {
   "cell_type": "code",
   "execution_count": 67,
   "metadata": {
    "collapsed": true
   },
   "outputs": [],
   "source": [
    "# linear optimization\n",
    "# optimizer = tf.train.GradientDescentOptimizer(learning_rate=0.001).minimize(loss)\n",
    "# quadratic optimization: decrease learning rate...\n",
    "optimizer = tf.train.GradientDescentOptimizer(learning_rate=0.00000001).minimize(loss)"
   ]
  },
  {
   "cell_type": "code",
   "execution_count": 68,
   "metadata": {
    "collapsed": false,
    "scrolled": true
   },
   "outputs": [
    {
     "name": "stdout",
     "output_type": "stream",
     "text": [
      "Epoch 0: loss 1540.62227857\n",
      "Epoch 1: loss 1310.39377935\n",
      "Epoch 2: loss 1146.47604901\n",
      "Epoch 3: loss 1029.78452404\n",
      "Epoch 4: loss 946.724612917\n",
      "Epoch 5: loss 887.613168985\n",
      "Epoch 6: loss 845.553270658\n",
      "Epoch 7: loss 815.632835746\n",
      "Epoch 8: loss 794.35340257\n",
      "Epoch 9: loss 779.223670871\n",
      "Epoch 10: loss 768.469805377\n",
      "Epoch 11: loss 760.828895901\n",
      "Epoch 12: loss 755.401769329\n",
      "Epoch 13: loss 751.54856478\n",
      "Epoch 14: loss 748.813789725\n",
      "Epoch 15: loss 746.873438765\n",
      "Epoch 16: loss 745.497078495\n",
      "Epoch 17: loss 744.52075306\n",
      "Epoch 18: loss 743.828112774\n",
      "Epoch 19: loss 743.336186226\n",
      "Epoch 20: loss 742.986343088\n",
      "Epoch 21: loss 742.736793555\n",
      "Epoch 22: loss 742.557934172\n",
      "Epoch 23: loss 742.428849945\n",
      "Epoch 24: loss 742.33474732\n",
      "Epoch 25: loss 742.265070114\n",
      "Epoch 26: loss 742.212357198\n",
      "Epoch 27: loss 742.171501206\n",
      "Epoch 28: loss 742.138838075\n",
      "Epoch 29: loss 742.111687112\n",
      "Epoch 30: loss 742.088336464\n",
      "Epoch 31: loss 742.067557476\n",
      "Epoch 32: loss 742.048408415\n",
      "Epoch 33: loss 742.030343813\n",
      "Epoch 34: loss 742.012976461\n",
      "Epoch 35: loss 741.996000535\n",
      "Epoch 36: loss 741.979197303\n",
      "Epoch 37: loss 741.962532925\n",
      "Epoch 38: loss 741.945871504\n",
      "Epoch 39: loss 741.929193011\n",
      "Epoch 40: loss 741.912417889\n",
      "Epoch 41: loss 741.895611008\n",
      "Epoch 42: loss 741.878749274\n",
      "Epoch 43: loss 741.861782232\n",
      "Epoch 44: loss 741.844714722\n",
      "Epoch 45: loss 741.827601931\n",
      "Epoch 46: loss 741.810464836\n",
      "Epoch 47: loss 741.793264064\n",
      "Epoch 48: loss 741.775988634\n",
      "Epoch 49: loss 741.758663989\n",
      "Epoch 50: loss 741.741361391\n",
      "Epoch 51: loss 741.72397502\n",
      "Epoch 52: loss 741.706605009\n",
      "Epoch 53: loss 741.68919282\n",
      "Epoch 54: loss 741.671754603\n",
      "Epoch 55: loss 741.654319721\n",
      "Epoch 56: loss 741.636868951\n",
      "Epoch 57: loss 741.619421469\n",
      "Epoch 58: loss 741.601879309\n",
      "Epoch 59: loss 741.584425615\n",
      "Epoch 60: loss 741.566955369\n",
      "Epoch 61: loss 741.549424339\n",
      "Epoch 62: loss 741.531965114\n",
      "Epoch 63: loss 741.514454397\n",
      "Epoch 64: loss 741.496973886\n",
      "Epoch 65: loss 741.479446031\n",
      "Epoch 66: loss 741.46195111\n",
      "Epoch 67: loss 741.444400806\n",
      "Epoch 68: loss 741.426890018\n",
      "Epoch 69: loss 741.409432404\n",
      "Epoch 70: loss 741.391887875\n",
      "Epoch 71: loss 741.374412224\n",
      "Epoch 72: loss 741.356850283\n",
      "Epoch 73: loss 741.339384204\n",
      "Epoch 74: loss 741.321849871\n",
      "Epoch 75: loss 741.304314315\n",
      "Epoch 76: loss 741.286810598\n",
      "Epoch 77: loss 741.269264699\n",
      "Epoch 78: loss 741.25177411\n",
      "Epoch 79: loss 741.234265881\n",
      "Epoch 80: loss 741.216781047\n",
      "Epoch 81: loss 741.199300965\n",
      "Epoch 82: loss 741.181758507\n",
      "Epoch 83: loss 741.164272764\n",
      "Epoch 84: loss 741.146759564\n",
      "Epoch 85: loss 741.129257957\n",
      "Epoch 86: loss 741.111736747\n",
      "Epoch 87: loss 741.094264533\n",
      "Epoch 88: loss 741.076782139\n",
      "Epoch 89: loss 741.05923485\n",
      "Epoch 90: loss 741.041776027\n",
      "Epoch 91: loss 741.024274819\n",
      "Epoch 92: loss 741.006744847\n",
      "Epoch 93: loss 740.989262096\n",
      "Epoch 94: loss 740.971728355\n",
      "Epoch 95: loss 740.954223455\n",
      "Epoch 96: loss 740.936775992\n",
      "Epoch 97: loss 740.919280224\n",
      "Epoch 98: loss 740.901786207\n",
      "Epoch 99: loss 740.884312715\n"
     ]
    }
   ],
   "source": [
    "with tf.Session() as sess:\n",
    "    sess.run(tf.global_variables_initializer())\n",
    "    \n",
    "    for i in range(100): # run 100 epochs\n",
    "        total_loss = 0\n",
    "        for x, y in data:\n",
    "            _, l = sess.run([optimizer, loss], feed_dict={X: x, Y: y})\n",
    "            total_loss += l\n",
    "        print('Epoch {0}: loss {1}'.format(i, total_loss/n_samples))\n",
    "    \n",
    "    w_value, u_value, b_value = sess.run([w, u, b])"
   ]
  },
  {
   "cell_type": "code",
   "execution_count": 69,
   "metadata": {
    "collapsed": false
   },
   "outputs": [
    {
     "name": "stdout",
     "output_type": "stream",
     "text": [
      "Tensor(\"loss_5:0\", dtype=float32)\n"
     ]
    }
   ],
   "source": [
    "print(loss)"
   ]
  },
  {
   "cell_type": "code",
   "execution_count": 70,
   "metadata": {
    "collapsed": false
   },
   "outputs": [
    {
     "data": {
      "text/plain": [
       "0.067708224"
      ]
     },
     "execution_count": 70,
     "metadata": {},
     "output_type": "execute_result"
    }
   ],
   "source": [
    "w_value"
   ]
  },
  {
   "cell_type": "code",
   "execution_count": 71,
   "metadata": {
    "collapsed": false
   },
   "outputs": [
    {
     "data": {
      "text/plain": [
       "0.010697876"
      ]
     },
     "execution_count": 71,
     "metadata": {},
     "output_type": "execute_result"
    }
   ],
   "source": [
    "u_value"
   ]
  },
  {
   "cell_type": "code",
   "execution_count": 72,
   "metadata": {
    "collapsed": false
   },
   "outputs": [
    {
     "data": {
      "text/plain": [
       "0.0014704196"
      ]
     },
     "execution_count": 72,
     "metadata": {},
     "output_type": "execute_result"
    }
   ],
   "source": [
    "b_value"
   ]
  },
  {
   "cell_type": "code",
   "execution_count": 36,
   "metadata": {
    "collapsed": false
   },
   "outputs": [
    {
     "name": "stdout",
     "output_type": "stream",
     "text": [
      "Tensor(\"add_4:0\", dtype=float32)\n"
     ]
    }
   ],
   "source": [
    "print(Y_predicted)"
   ]
  },
  {
   "cell_type": "code",
   "execution_count": 73,
   "metadata": {
    "collapsed": true
   },
   "outputs": [],
   "source": [
    "actual_x, actual_y = data.T"
   ]
  },
  {
   "cell_type": "code",
   "execution_count": 74,
   "metadata": {
    "collapsed": false
   },
   "outputs": [],
   "source": [
    "# linear prediction\n",
    "# pred_y = w_value * actual_x  + b_value\n",
    "# quadratic\n",
    "pred_y = w_value * actual_x * actual_x + u_value * actual_x  + b_value"
   ]
  },
  {
   "cell_type": "code",
   "execution_count": 76,
   "metadata": {
    "collapsed": false
   },
   "outputs": [
    {
     "data": {
      "text/plain": [
       "<matplotlib.legend.Legend at 0x11bf4dfd0>"
      ]
     },
     "execution_count": 76,
     "metadata": {},
     "output_type": "execute_result"
    },
    {
     "data": {
      "image/png": "[encoded data removed]",
      "text/plain": [
       "<matplotlib.figure.Figure at 0x11bc6d850>"
      ]
     },
     "metadata": {},
     "output_type": "display_data"
    }
   ],
   "source": [
    "plt.figure(figsize=(10,10))\n",
    "plt.scatter(x=actual_x, y=actual_y)\n",
    "# plt.plot(actual_x, pred_y, c='r')\n",
    "plt.scatter(x=actual_x, y=pred_y, c='r')\n",
    "plt.title('Chigaco: fires per 1000 housing units vs thefts per 1000 population', fontsize=15)\n",
    "plt.xlabel('Fires per 1000 housing units', fontsize=15)\n",
    "plt.ylabel('Thefts per 1000 housing units', fontsize=15)\n",
    "plt.legend(loc='best', labels=['Predicted data', 'Real data'])"
   ]
  },
  {
   "cell_type": "code",
   "execution_count": 77,
   "metadata": {
    "collapsed": true
   },
   "outputs": [],
   "source": [
    "from sklearn.metrics import mean_squared_error"
   ]
  },
  {
   "cell_type": "code",
   "execution_count": 78,
   "metadata": {
    "collapsed": false
   },
   "outputs": [
    {
     "data": {
      "text/plain": [
       "736.21642156891528"
      ]
     },
     "execution_count": 78,
     "metadata": {},
     "output_type": "execute_result"
    }
   ],
   "source": [
    "mean_squared_error(actual_y, pred_y)"
   ]
  },
  {
   "cell_type": "code",
   "execution_count": null,
   "metadata": {
    "collapsed": true
   },
   "outputs": [],
   "source": []
  }
 ],
 "metadata": {
  "anaconda-cloud": {},
  "kernelspec": {
   "display_name": "Python [conda env:neural_nets]",
   "language": "python",
   "name": "conda-env-neural_nets-py"
  },
  "language_info": {
   "codemirror_mode": {
    "name": "ipython",
    "version": 2
   },
   "file_extension": ".py",
   "mimetype": "text/x-python",
   "name": "python",
   "nbconvert_exporter": "python",
   "pygments_lexer": "ipython2",
   "version": "2.7.12"
  }
 },
 "nbformat": 4,
 "nbformat_minor": 1
}
